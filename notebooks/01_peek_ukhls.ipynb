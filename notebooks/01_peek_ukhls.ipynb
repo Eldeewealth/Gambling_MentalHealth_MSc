{
 "cells": [
  {
   "cell_type": "code",
   "execution_count": null,
   "id": "44c97935",
   "metadata": {},
   "outputs": [
    {
     "ename": "",
     "evalue": "",
     "output_type": "error",
     "traceback": [
      "\u001b[1;31mRunning cells with 'Python 3.12.10' requires the ipykernel package.\n",
      "\u001b[1;31mInstall 'ipykernel' into the Python environment. \n",
      "\u001b[1;31mCommand: 'c:/Users/User/Documents/Github/Gambling_MentalHealth_MSc/.venv/Scripts/python.exe -m pip install ipykernel -U --user --force-reinstall'"
     ]
    }
   ],
   "source": [
    "import pandas as pd\n",
    "from pathlib import Path\n",
    "\n",
    "raw = Path(\"data/raw/UKHLS\")\n",
    "waves = [\"k\",\"l\",\"n\"]  # W11, W12, W14\n",
    "\n",
    "def peek_wave(w):\n",
    "    f = raw / f\"{w}_indresp.sav\"\n",
    "    df = pd.read_spss(f)\n",
    "    print(f\"\\n=== UKHLS Wave {w.upper()} — {f.name} ===\")\n",
    "    print(\"shape:\", df.shape)\n",
    "    # show a few key columns if present\n",
    "    keys = [c for c in [\"pidp\",\"sex_dv\",\"sex\",\"age_dv\",\"gor_dv\",\"gamble_pgsi\",\"ghq12score\",\"indinui_xw\"] if c in df.columns]\n",
    "    print(\"columns (first 20):\", list(df.columns[:20]))\n",
    "    display(df[keys].head(10) if keys else df.head(10))\n",
    "    return df\n",
    "\n",
    "dfs = {w: peek_wave(w) for w in waves}"
   ]
  }
 ],
 "metadata": {
  "kernelspec": {
   "display_name": "Python 3",
   "language": "python",
   "name": "python3"
  },
  "language_info": {
   "name": "python",
   "version": "3.12.10"
  }
 },
 "nbformat": 4,
 "nbformat_minor": 5
}
