{
 "cells": [
  {
   "cell_type": "code",
   "execution_count": null,
   "id": "44c97935",
   "metadata": {},
   "outputs": [
    {
     "ename": "PyreadstatError",
     "evalue": "File data\\raw\\UKHLS\\k_indresp.sav does not exist!",
     "output_type": "error",
     "traceback": [
      "\u001b[31m---------------------------------------------------------------------------\u001b[39m",
      "\u001b[31mPyreadstatError\u001b[39m                           Traceback (most recent call last)",
      "\u001b[36mCell\u001b[39m\u001b[36m \u001b[39m\u001b[32mIn[2]\u001b[39m\u001b[32m, line 24\u001b[39m\n\u001b[32m     21\u001b[39m     display(df[keys].head(\u001b[32m10\u001b[39m) \u001b[38;5;28;01mif\u001b[39;00m keys \u001b[38;5;28;01melse\u001b[39;00m df.head(\u001b[32m10\u001b[39m))\n\u001b[32m     22\u001b[39m     \u001b[38;5;28;01mreturn\u001b[39;00m df\n\u001b[32m---> \u001b[39m\u001b[32m24\u001b[39m dfs = {w: \u001b[43mpeek_wave\u001b[49m\u001b[43m(\u001b[49m\u001b[43mw\u001b[49m\u001b[43m)\u001b[49m \u001b[38;5;28;01mfor\u001b[39;00m w \u001b[38;5;129;01min\u001b[39;00m waves}\n",
      "\u001b[36mCell\u001b[39m\u001b[36m \u001b[39m\u001b[32mIn[2]\u001b[39m\u001b[32m, line 15\u001b[39m, in \u001b[36mpeek_wave\u001b[39m\u001b[34m(w)\u001b[39m\n\u001b[32m     13\u001b[39m \u001b[38;5;28;01mdef\u001b[39;00m\u001b[38;5;250m \u001b[39m\u001b[34mpeek_wave\u001b[39m(w):\n\u001b[32m     14\u001b[39m     f = raw / \u001b[33mf\u001b[39m\u001b[33m\"\u001b[39m\u001b[38;5;132;01m{\u001b[39;00mw\u001b[38;5;132;01m}\u001b[39;00m\u001b[33m_indresp.sav\u001b[39m\u001b[33m\"\u001b[39m\n\u001b[32m---> \u001b[39m\u001b[32m15\u001b[39m     df = \u001b[43mpd\u001b[49m\u001b[43m.\u001b[49m\u001b[43mread_spss\u001b[49m\u001b[43m(\u001b[49m\u001b[43mf\u001b[49m\u001b[43m)\u001b[49m\n\u001b[32m     16\u001b[39m     \u001b[38;5;28mprint\u001b[39m(\u001b[33mf\u001b[39m\u001b[33m\"\u001b[39m\u001b[38;5;130;01m\\n\u001b[39;00m\u001b[33m=== UKHLS Wave \u001b[39m\u001b[38;5;132;01m{\u001b[39;00mw.upper()\u001b[38;5;132;01m}\u001b[39;00m\u001b[33m — \u001b[39m\u001b[38;5;132;01m{\u001b[39;00mf.name\u001b[38;5;132;01m}\u001b[39;00m\u001b[33m ===\u001b[39m\u001b[33m\"\u001b[39m)\n\u001b[32m     17\u001b[39m     \u001b[38;5;28mprint\u001b[39m(\u001b[33m\"\u001b[39m\u001b[33mshape:\u001b[39m\u001b[33m\"\u001b[39m, df.shape)\n",
      "\u001b[36mFile \u001b[39m\u001b[32mc:\\Users\\User\\Documents\\Github\\Gambling_MentalHealth_MSc\\.venv\\Lib\\site-packages\\pandas\\io\\spss.py:66\u001b[39m, in \u001b[36mread_spss\u001b[39m\u001b[34m(path, usecols, convert_categoricals, dtype_backend)\u001b[39m\n\u001b[32m     63\u001b[39m         \u001b[38;5;28;01mraise\u001b[39;00m \u001b[38;5;167;01mTypeError\u001b[39;00m(\u001b[33m\"\u001b[39m\u001b[33musecols must be list-like.\u001b[39m\u001b[33m\"\u001b[39m)\n\u001b[32m     64\u001b[39m     usecols = \u001b[38;5;28mlist\u001b[39m(usecols)  \u001b[38;5;66;03m# pyreadstat requires a list\u001b[39;00m\n\u001b[32m---> \u001b[39m\u001b[32m66\u001b[39m df, metadata = \u001b[43mpyreadstat\u001b[49m\u001b[43m.\u001b[49m\u001b[43mread_sav\u001b[49m\u001b[43m(\u001b[49m\n\u001b[32m     67\u001b[39m \u001b[43m    \u001b[49m\u001b[43mstringify_path\u001b[49m\u001b[43m(\u001b[49m\u001b[43mpath\u001b[49m\u001b[43m)\u001b[49m\u001b[43m,\u001b[49m\u001b[43m \u001b[49m\u001b[43musecols\u001b[49m\u001b[43m=\u001b[49m\u001b[43musecols\u001b[49m\u001b[43m,\u001b[49m\u001b[43m \u001b[49m\u001b[43mapply_value_formats\u001b[49m\u001b[43m=\u001b[49m\u001b[43mconvert_categoricals\u001b[49m\n\u001b[32m     68\u001b[39m \u001b[43m\u001b[49m\u001b[43m)\u001b[49m\n\u001b[32m     69\u001b[39m df.attrs = metadata.\u001b[34m__dict__\u001b[39m\n\u001b[32m     70\u001b[39m \u001b[38;5;28;01mif\u001b[39;00m dtype_backend \u001b[38;5;129;01mis\u001b[39;00m \u001b[38;5;129;01mnot\u001b[39;00m lib.no_default:\n",
      "\u001b[36mFile \u001b[39m\u001b[32mpyreadstat/pyreadstat.pyx:391\u001b[39m, in \u001b[36mpyreadstat.pyreadstat.read_sav\u001b[39m\u001b[34m()\u001b[39m\n",
      "\u001b[36mFile \u001b[39m\u001b[32mpyreadstat/_readstat_parser.pyx:1195\u001b[39m, in \u001b[36mpyreadstat._readstat_parser.run_conversion\u001b[39m\u001b[34m()\u001b[39m\n",
      "\u001b[31mPyreadstatError\u001b[39m: File data\\raw\\UKHLS\\k_indresp.sav does not exist!"
     ]
    }
   ],
   "source": [
    "import pyreadstat\n",
    "import pandas as pd\n",
    "from pathlib import Path\n",
    "\n",
    "raw = Path(\"data/raw/UKHLS\")\n",
    "waves = [\"k\",\"l\",\"n\"]  # W11, W12, W14\n",
    "\n",
    "def peek_wave(w):\n",
    "    f = raw / f\"{w}_indresp.sav\"\n",
    "    df = pd.read_spss(f)\n",
    "    print(f\"\\n=== UKHLS Wave {w.upper()} — {f.name} ===\")\n",
    "    print(\"shape:\", df.shape)\n",
    "    # show a few key columns if present\n",
    "    keys = [c for c in [\"pidp\",\"sex_dv\",\"sex\",\"age_dv\",\"gor_dv\",\"gamble_pgsi\",\"ghq12score\",\"indinui_xw\"] if c in df.columns]\n",
    "    print(\"columns (first 20):\", list(df.columns[:20]))\n",
    "    display(df[keys].head(10) if keys else df.head(10))\n",
    "    return df\n",
    "\n",
    "dfs = {w: peek_wave(w) for w in waves}"
   ]
  }
 ],
 "metadata": {
  "kernelspec": {
   "display_name": "Python 3",
   "language": "python",
   "name": "python3"
  },
  "language_info": {
   "codemirror_mode": {
    "name": "ipython",
    "version": 3
   },
   "file_extension": ".py",
   "mimetype": "text/x-python",
   "name": "python",
   "nbconvert_exporter": "python",
   "pygments_lexer": "ipython3",
   "version": "3.12.10"
  }
 },
 "nbformat": 4,
 "nbformat_minor": 5
}
